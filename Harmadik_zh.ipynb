{
    "metadata": {
        "kernelspec": {
            "name": "SQL",
            "display_name": "SQL",
            "language": "sql"
        },
        "language_info": {
            "name": "sql",
            "version": ""
        }
    },
    "nbformat_minor": 2,
    "nbformat": 4,
    "cells": [
        {
            "cell_type": "markdown",
            "source": [
                "1\\. Feladat\n",
                "\n",
                "A MongoDB Atlas-ban (vagy a Compass-ban) navigáljon a sample\\_mflix adatbázishoz, és kérdezze le a movies gyűjteményt az alábbiak szerint:\n",
                "\n",
                "- Az országok közül a legelső \"USA\" legyen ÉS\n",
                "- Az imdb.rating értéke legalább 5 legyen\n",
                "- Csak a filmek címe, az ország és a rating érték jelenjenek meg\n",
                "- Rendezzük sorba a filmeket rating szerint csökkenően\n",
                "\n",
                "Beadandó: a Filter, Project és a Sort részbe írt kódok"
            ],
            "metadata": {
                "azdata_cell_guid": "ddfa1f6c-62a7-4a7a-a71f-6b70b550ef56"
            },
            "attachments": {}
        },
        {
            "cell_type": "code",
            "source": [
                "Filter : {\"countries.0\":\"USA\",\"imdb.rating\":{$gte:5}}\r\n",
                "Project : {title:1,countries:1,\"imdb.rating\":1,_id:0}\r\n",
                "Sort: {\"imdb.rating\":-1}\r\n",
                ""
            ],
            "metadata": {
                "azdata_cell_guid": "9d47604d-cddd-4545-ac21-f045922dec13",
                "language": "sql"
            },
            "outputs": [],
            "execution_count": null
        },
        {
            "cell_type": "markdown",
            "source": [
                "2\\. Feladat\n",
                "\n",
                "A MongoDB shell-ben csatlakozzon a sample\\_mflix adatbázishoz, és kérdezze le a users gyűjteményt az alábbiak szerint:\n",
                "\n",
                "- <span style=\"box-sizing: border-box; font-size: 0.9375rem;\">Csak a felhasználók neve és email címe jelenjen meg</span>\n",
                "- Az email cím tartalmazza a .com karaktersorozatot.\n",
                "\n",
                "Beadandó: a megfelelő utasítás"
            ],
            "metadata": {
                "azdata_cell_guid": "b1a41560-2ab3-4486-9ac1-064aac5e57ff"
            },
            "attachments": {}
        },
        {
            "cell_type": "code",
            "source": [
                "db.users.find({\"email\":{$regex:/.com/}},{\"name\":1,\"email\":1,\"_id\":0})"
            ],
            "metadata": {
                "azdata_cell_guid": "baf8c77d-8934-4c8a-8217-5076c57a1530",
                "language": "sql"
            },
            "outputs": [],
            "execution_count": null
        },
        {
            "cell_type": "markdown",
            "source": [
                "3\\. Feladat\n",
                "\n",
                "A MongoDB shell-ben csatlakozzon a sample\\_mflix adatbázishoz, és kérdezze le a movies gyűjteményt az alábbiak szerint:\n",
                "\n",
                "<span style=\"box-sizing: border-box; font-size: 0.9375rem;\">A lekérdezés feleljen meg a következő SQL lekérdezésnek:</span>\n",
                "\n",
                "<span style=\"box-sizing: border-box; color: rgb(0, 0, 0); font-family: &quot;Open Sans&quot;, sans-serif; background-color: rgb(255, 255, 255); font-size: 0.9375rem;\">SELECT rated, AVG(runtime)<br style=\"box-sizing: border-box;\">FROM movies<br style=\"box-sizing: border-box;\"></span><span style=\"color: rgb(0, 0, 0); font-family: &quot;Open Sans&quot;, sans-serif; font-size: 14.44px; background-color: rgb(255, 255, 255);\">WHERE year &gt; 1950</span>  \n",
                "<span style=\"box-sizing: border-box; color: rgb(0, 0, 0); font-family: &quot;Open Sans&quot;, sans-serif; background-color: rgb(255, 255, 255); font-size: 0.9375rem;\">GROUP BY rated</span>  \n",
                "\n",
                "  \n",
                "\n",
                "Beadandó a lekérdező utasítás"
            ],
            "metadata": {
                "azdata_cell_guid": "49ef0eb4-9a73-468f-bd84-aa332ee7b127"
            },
            "attachments": {}
        },
        {
            "cell_type": "code",
            "source": [
                " db.movies.aggregate([{$match:{\"year\":{$gt:1950}}},{$group:{_id:\"$rated\",total:{$avg:\"$runtime\"}}}])"
            ],
            "metadata": {
                "azdata_cell_guid": "16f910d7-036b-4c1a-9548-f4923e4c28fa",
                "language": "sql"
            },
            "outputs": [],
            "execution_count": null
        },
        {
            "cell_type": "markdown",
            "source": [
                "4\\. Feladat\n",
                "\n",
                "Csatlakozzon a Movies adatbázishoz a Neo4J Sandbox-ban (vagy a Desktop-ban), és kérdezze le a következőket:\n",
                "\n",
                "- Melyik filmben volt a legtöbb szereplő?\n",
                "- Csak a film címe és a szereplők száma jelenjen meg\n",
                "- Ötlet (a legegyszerűbb): sorbarendezés és az első elem megjelenítése\n",
                "\n",
                "Beadandó: a megfelelő utasítás"
            ],
            "metadata": {
                "azdata_cell_guid": "26d7ec9c-4a21-43ff-81b9-11d02ccfeb9e"
            },
            "attachments": {}
        },
        {
            "cell_type": "code",
            "source": [
                "match (p:Person)-[:ACTED_IN]->(m:Movie)\r\n",
                "return m.title,count(*)\r\n",
                "order by count(*) desc\r\n",
                "limit 1"
            ],
            "metadata": {
                "azdata_cell_guid": "c55d4cb8-a6e7-4f03-be16-355527a914a3",
                "language": "sql"
            },
            "outputs": [],
            "execution_count": null
        },
        {
            "cell_type": "markdown",
            "source": [
                "5\\. Feladat\n",
                "\n",
                "A neo4j Sandbox-ban (vagy a Desktop-ban) csatlakozzon a Movies adatbázishoz, és kérdezze le a következő SQL-lekérdezésnek megfelelő adatokat:\n",
                "\n",
                "<span style=\"color: rgb(0, 0, 0); font-family: &quot;Open Sans&quot;, sans-serif; font-size: 14.44px; background-color: rgb(255, 255, 255);\">SELECT p.name AS Actor, p.born AS BirthYear, COUNT(m.title) AS NumMoviesActedIn</span>  \n",
                "<span style=\"color: rgb(0, 0, 0); font-family: &quot;Open Sans&quot;, sans-serif; font-size: 14.44px; background-color: rgb(255, 255, 255);\">FROM Person p</span>  \n",
                "    <span style=\"color: rgb(0, 0, 0); font-family: &quot;Open Sans&quot;, sans-serif; font-size: 14.44px; background-color: rgb(255, 255, 255);\">&nbsp; &nbsp; JOIN ACTED_IN ai ON p.name = ai.actor_name</span>  \n",
                "    <span style=\"color: rgb(0, 0, 0); font-family: &quot;Open Sans&quot;, sans-serif; font-size: 14.44px; background-color: rgb(255, 255, 255);\">&nbsp; &nbsp; JOIN Movie m ON ai.movie_title = m.title</span>  \n",
                "<span style=\"color: rgb(0, 0, 0); font-family: &quot;Open Sans&quot;, sans-serif; font-size: 14.44px; background-color: rgb(255, 255, 255);\">WHERE p.born &gt; 1980</span>  \n",
                "<span style=\"color: rgb(0, 0, 0); font-family: &quot;Open Sans&quot;, sans-serif; font-size: 14.44px; background-color: rgb(255, 255, 255);\">GROUP BY p.name, p.born</span>"
            ],
            "metadata": {
                "azdata_cell_guid": "bf70198d-5a7b-4295-bb1b-dfdcaeeff265"
            },
            "attachments": {}
        },
        {
            "cell_type": "code",
            "source": [
                "Match (p:Person)-[:ACTED_IN]->(m:Movie)\r\n",
                "where p.born > 1980\r\n",
                "return p.name as Actor,p.born as BirthYear,count(*) as NumMoviesActedIn"
            ],
            "metadata": {
                "azdata_cell_guid": "00800441-b9a9-4cd4-8aae-c817437c1d89",
                "language": "sql"
            },
            "outputs": [],
            "execution_count": null
        }
    ]
}