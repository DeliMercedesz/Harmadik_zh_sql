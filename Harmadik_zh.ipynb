{
    "metadata": {
        "kernelspec": {
            "name": "SQL",
            "display_name": "SQL",
            "language": "sql"
        },
        "language_info": {
            "name": "sql",
            "version": ""
        }
    },
    "nbformat_minor": 2,
    "nbformat": 4,
    "cells": [
        {
            "cell_type": "markdown",
            "source": [
                "1\\. Feladat"
            ],
            "metadata": {
                "azdata_cell_guid": "ddfa1f6c-62a7-4a7a-a71f-6b70b550ef56"
            },
            "attachments": {}
        },
        {
            "cell_type": "code",
            "source": [
                "db.movies.aggregate([{$group:{_id:\"$rated\",total:{$avg:\"$runtime\"}}},{$sort:{total:1}}])"
            ],
            "metadata": {
                "azdata_cell_guid": "9d47604d-cddd-4545-ac21-f045922dec13",
                "language": "sql"
            },
            "outputs": [],
            "execution_count": null
        }
    ]
}